{
 "cells": [
  {
   "cell_type": "markdown",
   "metadata": {},
   "source": [
    "# Problema de los 100 prisioneros"
   ]
  },
  {
   "cell_type": "markdown",
   "metadata": {},
   "source": [
    "El dilema de los 100 prisioneros y 100 cajones es un problema en la teoría de la probabilidad y la combinatoria. Consiste en que cada uno de 100 prisioneros debe encontrar su número en uno de los 100 cajones para sobrevivir y si alguno no lo encuentra, todos morirán; y, cada prisionero puede abrir sólo 50 cajones y no puede comunicarse con los demás prisioneros, excepto en el debate previo de la estrategia. "
   ]
  },
  {
   "cell_type": "markdown",
   "metadata": {},
   "source": [
    "### Enunciado:\n",
    "El director de una prisión ofrece a un centenar de condenados a muerte (numerados del 1 al 100) una última oportunidad. En una sala hay un armario con 100 cajones. El director coloca aleatoriamente en cada cajón uno de los números de 1 a 100. Los prisioneros entran en la sala, uno tras otro. Cada uno de los prisioneros puede: abrir y comprobar sólo 50 cajones en cualquier orden, y después cierra todos los cajones. Si en esta búsqueda todos los prisioneros han encontrado respectivamente su número, todos los prisioneros son perdonados; si un prisionero no encontrara su número, todos los prisioneros serán ejecutados. Antes de que el primer prisionero busque su número, los prisioneros pueden discutir la estrategia, pero no pueden comunicarse a partir de este momento. ¿Cuál es la mejor estrategia de los prisioneros? "
   ]
  },
  {
   "cell_type": "markdown",
   "metadata": {},
   "source": [
    "### Solución:\n",
    "\n",
    "Sorprendentemente existe una estrategia que proporciona la probabilidad de supervivencia de más del 30%. La clave del éxito radica en el hecho de que los prisioneros no necesitan decidir de antemano cuáles cajones abrir: cada prisionero puede utilizar la información recibida del contenido de los cajones ya abiertos, para decidir cuál abrir después. Otra importante observación es que el éxito de un prisionero no es independiente del éxito de otros prisioneros, ya que todo depende de cómo se distribuyeron los números en los cajones.\n",
    "\n",
    "La estrategia descrita cubre no sólo los prisioneros, sino también los cajones numerados del 1 al 100 (por ejemplo, hilera por hilera, a partir del primer cajón de la esquina superior izquierda del armario). La estrategia a seguir es:\n",
    "\n",
    "- Cada prisionero, primero abre el cajón con su número.\n",
    "- Si este cajón contiene su número, el prisionero ha concluido con éxito.\n",
    "- En caso contrario, el cajón contiene un número de otro prisionero, y se abre el cajón con dicho número.\n",
    "- El prisionero repite los pasos 2 y 3 hasta que encuentre su número o hasta abrir los 50 cajones.\n",
    "\n",
    "Comenzando con su propio número el prisionero se garantiza de seguir una secuencia de apertura de cajones en el que pueda eventualmente encontrar su número. La única cuestión reside en si la secuencia es mayor de 50. "
   ]
  },
  {
   "cell_type": "markdown",
   "metadata": {},
   "source": [
    "https://es.wikipedia.org/wiki/Problema_de_los_100_prisioneros"
   ]
  },
  {
   "cell_type": "markdown",
   "metadata": {},
   "source": [
    "### Librerías:"
   ]
  },
  {
   "cell_type": "code",
   "execution_count": 436,
   "metadata": {},
   "outputs": [],
   "source": [
    "import numpy as np\n",
    "import matplotlib.pyplot as plt"
   ]
  },
  {
   "cell_type": "markdown",
   "metadata": {},
   "source": [
    "### Variables:"
   ]
  },
  {
   "cell_type": "code",
   "execution_count": 437,
   "metadata": {},
   "outputs": [],
   "source": [
    "#Se crean las 100 cajas:\n",
    "cajas = np.arange(100) \n",
    "\n",
    "#Se desordenan las cajas aleatoriamente:\n",
    "np.random.shuffle(cajas)\n",
    "\n",
    "# Creo esta lista para saber cuáles cajas ya han sido abiertas y así no repetir procesos con esas cajas, \n",
    "# pues se sabe que pertenecen a un bucle previamente recorrido.\n",
    "cajas_abiertas = []"
   ]
  },
  {
   "cell_type": "code",
   "execution_count": 438,
   "metadata": {},
   "outputs": [
    {
     "data": {
      "text/plain": [
       "array([52, 53, 90, 31, 76, 61, 98, 18, 69, 49, 10, 51, 71,  2, 43,  7, 44,\n",
       "       94, 36,  1,  8, 70, 38, 64, 62, 14, 95,  4, 35, 88, 40, 22, 27, 97,\n",
       "       42, 20, 54, 99, 32, 23,  9,  3, 33, 92, 86, 39, 77,  6, 91, 83, 13,\n",
       "       57, 82, 78, 58, 87, 75, 84, 41, 56, 63, 21, 25, 73, 48, 55, 81, 79,\n",
       "       24, 15, 74, 29, 34, 68, 60, 65, 47, 46, 16, 26, 30, 50, 72, 80, 11,\n",
       "       17, 96, 59, 89, 67, 66,  0, 85, 93, 37, 12, 45, 28,  5, 19])"
      ]
     },
     "execution_count": 438,
     "metadata": {},
     "output_type": "execute_result"
    }
   ],
   "source": [
    "cajas"
   ]
  },
  {
   "cell_type": "markdown",
   "metadata": {},
   "source": [
    "### Función para saber el tamaño de un bucle:    "
   ]
  },
  {
   "cell_type": "code",
   "execution_count": 439,
   "metadata": {},
   "outputs": [],
   "source": [
    "# Recordemos que si el tamaño de uno de los bucles es > 50, entonces no hay posibilidad de éxito\n",
    "\n",
    "def contar_bucle(nro_preso): \n",
    "    contador = 1\n",
    "\n",
    "    nro_caja = nro_preso # La primera caja que se abre, es la que corresponde al numero del preso\n",
    "    cierre = False\n",
    "\n",
    "\n",
    "    while(cierre == False): # Mientras no haya ido encontrado el final del bucle:\n",
    "\n",
    "        if(cajas[nro_caja] == nro_preso): # Si el numero dentro de la caja coincide con el numero del preso, el bucle finalizó.\n",
    "            cierre = True # El final del bucle fue encontrado.\n",
    "            cajas_abiertas.append(nro_caja) # Se guarda el numero de la caja para saber que el bucle al que pertenece ya fue recorrido.\n",
    "\n",
    "            return contador\n",
    "\n",
    "        else: # Si el final del bucle no fue encontrado:\n",
    "            cajas_abiertas.append(nro_caja) # Se guarda el numero de la caja para saber que el bucle al que pertenece ya fue recorrido.\n",
    "            nro_caja=cajas[nro_caja] # La próxima caja a ser abierta será la que tenga el número que estaba dentro de la caja \n",
    "                                     # que se acaba de abrir.\n",
    "            contador+=1 "
   ]
  },
  {
   "cell_type": "markdown",
   "metadata": {},
   "source": [
    "### Función para hacer x cantidad de veces el reto:"
   ]
  },
  {
   "cell_type": "code",
   "execution_count": 440,
   "metadata": {},
   "outputs": [],
   "source": [
    "def funcion(nro_intentos):\n",
    "\n",
    "    global cajas_abiertas\n",
    "    fracasos = 0 # Guarda el número de fracasos\n",
    "\n",
    "    for i in range (nro_intentos): # Se repite 'nro_intentos' veces\n",
    "        \n",
    "        for j in range (99): \n",
    "            if not j in (cajas_abiertas): # Sólo se usan lo números que no pertenezcan a bucles previamente recorridos\n",
    "                if contar_bucle(j) > 50: #Si el tamaño del bucle es > 50, entonces no hay posibilidad de éxito\n",
    "                    fracasos += 1 # + 1 fracaso\n",
    "\n",
    "        np.random.shuffle(cajas) # Se desordenan las cajas para hacer el próximo intento\n",
    "        cajas_abiertas = [] # Reseteo la lista de cajas abiertas\n",
    "\n",
    "    return fracasos"
   ]
  },
  {
   "cell_type": "markdown",
   "metadata": {},
   "source": [
    "### Puesta en práctica:"
   ]
  },
  {
   "cell_type": "code",
   "execution_count": 452,
   "metadata": {},
   "outputs": [
    {
     "name": "stdout",
     "output_type": "stream",
     "text": [
      "Exitos: 3158\n",
      "Fracasos: 6842\n"
     ]
    }
   ],
   "source": [
    "nro_intentos = 10000 # Cantidad de veces que se quiere hacer la prueba\n",
    "\n",
    "fracasos = funcion(nro_intentos)\n",
    "exitos = nro_intentos - fracasos\n",
    "\n",
    "print('Exitos:',exitos)\n",
    "print('Fracasos:',fracasos)"
   ]
  },
  {
   "cell_type": "markdown",
   "metadata": {},
   "source": [
    "### Visualización de resultados:"
   ]
  },
  {
   "cell_type": "code",
   "execution_count": 454,
   "metadata": {},
   "outputs": [
    {
     "data": {
      "image/png": "[encoded data removed]",
      "text/plain": [
       "<Figure size 864x576 with 1 Axes>"
      ]
     },
     "metadata": {},
     "output_type": "display_data"
    }
   ],
   "source": [
    "fig = plt.figure(figsize=(12,8))\n",
    "fig.patch.set_facecolor('white')\n",
    "plt.pie([fracasos, exitos], labels=[f'Fracasos: {(fracasos/nro_intentos)*100}%',  f'Exitos: {(exitos/nro_intentos)*100}%'])\n",
    "plt.title(f'Diagrama Pastel con {nro_intentos} intentos')\n",
    "plt.show()"
   ]
  }
 ],
 "metadata": {
  "kernelspec": {
   "display_name": "Python 3.10.3 64-bit",
   "language": "python",
   "name": "python3"
  },
  "language_info": {
   "codemirror_mode": {
    "name": "ipython",
    "version": 3
   },
   "file_extension": ".py",
   "mimetype": "text/x-python",
   "name": "python",
   "nbconvert_exporter": "python",
   "pygments_lexer": "ipython3",
   "version": "3.10.3"
  },
  "orig_nbformat": 4,
  "vscode": {
   "interpreter": {
    "hash": "369f2c481f4da34e4445cda3fffd2e751bd1c4d706f27375911949ba6bb62e1c"
   }
  }
 },
 "nbformat": 4,
 "nbformat_minor": 2
}
